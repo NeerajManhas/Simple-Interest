{
 "cells": [
  {
   "cell_type": "markdown",
   "id": "d99189e2",
   "metadata": {},
   "source": [
    "# Assignment 1"
   ]
  },
  {
   "cell_type": "markdown",
   "id": "a30ff5bf",
   "metadata": {},
   "source": [
    "Q.No 1 : Write a program which accept principal, rate and time from user and print the simple interest. The Formula to calculate simple interest is : Simple Interest = principal X rate X time / 100 Solution."
   ]
  },
  {
   "cell_type": "markdown",
   "id": "c96e00e2",
   "metadata": {},
   "source": [
    "Solution:"
   ]
  },
  {
   "cell_type": "code",
   "execution_count": 1,
   "id": "9d0aa3ac",
   "metadata": {},
   "outputs": [
    {
     "name": "stdout",
     "output_type": "stream",
     "text": [
      "Enter the principal amount : 5\n",
      "Enter the number of years : 46\n",
      "Enter the rate of interest : 8\n",
      "Simple interest : 18.4\n"
     ]
    }
   ],
   "source": [
    "P = float(input(\"Enter the principal amount : \"))\n",
    "T = float(input(\"Enter the number of years : \"))\n",
    "R = float(input(\"Enter the rate of interest : \"))\n",
    "\n",
    "SI=(P * T * R)/100\n",
    "\n",
    "print(\"Simple interest : {}\".format(SI))"
   ]
  },
  {
   "cell_type": "code",
   "execution_count": null,
   "id": "947ae10b",
   "metadata": {},
   "outputs": [],
   "source": []
  }
 ],
 "metadata": {
  "kernelspec": {
   "display_name": "Python 3",
   "language": "python",
   "name": "python3"
  },
  "language_info": {
   "codemirror_mode": {
    "name": "ipython",
    "version": 3
   },
   "file_extension": ".py",
   "mimetype": "text/x-python",
   "name": "python",
   "nbconvert_exporter": "python",
   "pygments_lexer": "ipython3",
   "version": "3.8.8"
  }
 },
 "nbformat": 4,
 "nbformat_minor": 5
}
