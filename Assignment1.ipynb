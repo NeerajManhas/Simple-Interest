{
 "cells": [
  {
   "cell_type": "markdown",
   "id": "ea819d17",
   "metadata": {},
   "source": [
    "# Assignment 1"
   ]
  },
  {
   "cell_type": "markdown",
   "id": "99412d9f",
   "metadata": {},
   "source": [
    "Q.No 1 : Write a program which accept principal, rate and time from user and print the simple interest. The Formula to calculate simple interest is : Simple Interest = principal X rate X time / 100 Solution."
   ]
  },
  {
   "cell_type": "markdown",
   "id": "53551fdf",
   "metadata": {},
   "source": [
    "Solution:"
   ]
  },
  {
   "cell_type": "code",
   "execution_count": 1,
   "id": "fbc2ee29",
   "metadata": {},
   "outputs": [
    {
     "name": "stdout",
     "output_type": "stream",
     "text": [
      "The Simple Interest is 500.0\n"
     ]
    }
   ],
   "source": [
    "Principal = 1000\n",
    "Rate = 5\n",
    "Time = 10\n",
    "\n",
    "Simple_interest = (Principal*Rate*Time)/100\n",
    "print(\"The Simple Interest is\",Simple_interest)"
   ]
  },
  {
   "cell_type": "code",
   "execution_count": null,
   "id": "728d4a23",
   "metadata": {},
   "outputs": [],
   "source": []
  }
 ],
 "metadata": {
  "kernelspec": {
   "display_name": "Python 3",
   "language": "python",
   "name": "python3"
  },
  "language_info": {
   "codemirror_mode": {
    "name": "ipython",
    "version": 3
   },
   "file_extension": ".py",
   "mimetype": "text/x-python",
   "name": "python",
   "nbconvert_exporter": "python",
   "pygments_lexer": "ipython3",
   "version": "3.8.8"
  }
 },
 "nbformat": 4,
 "nbformat_minor": 5
}
